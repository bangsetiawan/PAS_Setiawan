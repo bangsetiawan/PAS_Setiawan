{
  "nbformat": 4,
  "nbformat_minor": 0,
  "metadata": {
    "colab": {
      "provenance": []
    },
    "kernelspec": {
      "name": "python3",
      "display_name": "Python 3"
    },
    "language_info": {
      "name": "python"
    }
  },
  "cells": [
    {
      "cell_type": "code",
      "source": [
        "from google.colab import drive #memanggil package import drive\n",
        "drive.mount('/content/drive')"
      ],
      "metadata": {
        "colab": {
          "base_uri": "https://localhost:8080/",
          "height": 0
        },
        "id": "NMq2Yj52qRok",
        "outputId": "8829cf9b-bd70-43e5-d8b9-311a477f80f6"
      },
      "execution_count": 1,
      "outputs": [
        {
          "output_type": "stream",
          "name": "stdout",
          "text": [
            "Mounted at /content/drive\n"
          ]
        }
      ]
    },
    {
      "cell_type": "code",
      "source": [
        "import pandas as pd #MANIPULASI DATA\n",
        "\n",
        "path = '/content/drive/MyDrive/CSV/minggu - Sheet1.csv' # PATH ATAU PEMANGGILAN\n",
        "\n",
        "df = pd.read_csv(path)#DF : DATAFRAME\n",
        "\n",
        "df.describe()\n",
        "df.isnull()"
      ],
      "metadata": {
        "colab": {
          "base_uri": "https://localhost:8080/",
          "height": 175
        },
        "id": "wQCXSnNMqVt5",
        "outputId": "bbc93482-1a6d-454f-ea80-582a3b691ad0"
      },
      "execution_count": 8,
      "outputs": [
        {
          "output_type": "execute_result",
          "data": {
            "text/plain": [
              "   Minggu  total\n",
              "0   False  False\n",
              "1   False  False\n",
              "2   False  False\n",
              "3   False  False"
            ],
            "text/html": [
              "\n",
              "  <div id=\"df-2464c5d2-0f91-4a30-b2b7-0833e14debb7\">\n",
              "    <div class=\"colab-df-container\">\n",
              "      <div>\n",
              "<style scoped>\n",
              "    .dataframe tbody tr th:only-of-type {\n",
              "        vertical-align: middle;\n",
              "    }\n",
              "\n",
              "    .dataframe tbody tr th {\n",
              "        vertical-align: top;\n",
              "    }\n",
              "\n",
              "    .dataframe thead th {\n",
              "        text-align: right;\n",
              "    }\n",
              "</style>\n",
              "<table border=\"1\" class=\"dataframe\">\n",
              "  <thead>\n",
              "    <tr style=\"text-align: right;\">\n",
              "      <th></th>\n",
              "      <th>Minggu</th>\n",
              "      <th>total</th>\n",
              "    </tr>\n",
              "  </thead>\n",
              "  <tbody>\n",
              "    <tr>\n",
              "      <th>0</th>\n",
              "      <td>False</td>\n",
              "      <td>False</td>\n",
              "    </tr>\n",
              "    <tr>\n",
              "      <th>1</th>\n",
              "      <td>False</td>\n",
              "      <td>False</td>\n",
              "    </tr>\n",
              "    <tr>\n",
              "      <th>2</th>\n",
              "      <td>False</td>\n",
              "      <td>False</td>\n",
              "    </tr>\n",
              "    <tr>\n",
              "      <th>3</th>\n",
              "      <td>False</td>\n",
              "      <td>False</td>\n",
              "    </tr>\n",
              "  </tbody>\n",
              "</table>\n",
              "</div>\n",
              "      <button class=\"colab-df-convert\" onclick=\"convertToInteractive('df-2464c5d2-0f91-4a30-b2b7-0833e14debb7')\"\n",
              "              title=\"Convert this dataframe to an interactive table.\"\n",
              "              style=\"display:none;\">\n",
              "        \n",
              "  <svg xmlns=\"http://www.w3.org/2000/svg\" height=\"24px\"viewBox=\"0 0 24 24\"\n",
              "       width=\"24px\">\n",
              "    <path d=\"M0 0h24v24H0V0z\" fill=\"none\"/>\n",
              "    <path d=\"M18.56 5.44l.94 2.06.94-2.06 2.06-.94-2.06-.94-.94-2.06-.94 2.06-2.06.94zm-11 1L8.5 8.5l.94-2.06 2.06-.94-2.06-.94L8.5 2.5l-.94 2.06-2.06.94zm10 10l.94 2.06.94-2.06 2.06-.94-2.06-.94-.94-2.06-.94 2.06-2.06.94z\"/><path d=\"M17.41 7.96l-1.37-1.37c-.4-.4-.92-.59-1.43-.59-.52 0-1.04.2-1.43.59L10.3 9.45l-7.72 7.72c-.78.78-.78 2.05 0 2.83L4 21.41c.39.39.9.59 1.41.59.51 0 1.02-.2 1.41-.59l7.78-7.78 2.81-2.81c.8-.78.8-2.07 0-2.86zM5.41 20L4 18.59l7.72-7.72 1.47 1.35L5.41 20z\"/>\n",
              "  </svg>\n",
              "      </button>\n",
              "      \n",
              "  <style>\n",
              "    .colab-df-container {\n",
              "      display:flex;\n",
              "      flex-wrap:wrap;\n",
              "      gap: 12px;\n",
              "    }\n",
              "\n",
              "    .colab-df-convert {\n",
              "      background-color: #E8F0FE;\n",
              "      border: none;\n",
              "      border-radius: 50%;\n",
              "      cursor: pointer;\n",
              "      display: none;\n",
              "      fill: #1967D2;\n",
              "      height: 32px;\n",
              "      padding: 0 0 0 0;\n",
              "      width: 32px;\n",
              "    }\n",
              "\n",
              "    .colab-df-convert:hover {\n",
              "      background-color: #E2EBFA;\n",
              "      box-shadow: 0px 1px 2px rgba(60, 64, 67, 0.3), 0px 1px 3px 1px rgba(60, 64, 67, 0.15);\n",
              "      fill: #174EA6;\n",
              "    }\n",
              "\n",
              "    [theme=dark] .colab-df-convert {\n",
              "      background-color: #3B4455;\n",
              "      fill: #D2E3FC;\n",
              "    }\n",
              "\n",
              "    [theme=dark] .colab-df-convert:hover {\n",
              "      background-color: #434B5C;\n",
              "      box-shadow: 0px 1px 3px 1px rgba(0, 0, 0, 0.15);\n",
              "      filter: drop-shadow(0px 1px 2px rgba(0, 0, 0, 0.3));\n",
              "      fill: #FFFFFF;\n",
              "    }\n",
              "  </style>\n",
              "\n",
              "      <script>\n",
              "        const buttonEl =\n",
              "          document.querySelector('#df-2464c5d2-0f91-4a30-b2b7-0833e14debb7 button.colab-df-convert');\n",
              "        buttonEl.style.display =\n",
              "          google.colab.kernel.accessAllowed ? 'block' : 'none';\n",
              "\n",
              "        async function convertToInteractive(key) {\n",
              "          const element = document.querySelector('#df-2464c5d2-0f91-4a30-b2b7-0833e14debb7');\n",
              "          const dataTable =\n",
              "            await google.colab.kernel.invokeFunction('convertToInteractive',\n",
              "                                                     [key], {});\n",
              "          if (!dataTable) return;\n",
              "\n",
              "          const docLinkHtml = 'Like what you see? Visit the ' +\n",
              "            '<a target=\"_blank\" href=https://colab.research.google.com/notebooks/data_table.ipynb>data table notebook</a>'\n",
              "            + ' to learn more about interactive tables.';\n",
              "          element.innerHTML = '';\n",
              "          dataTable['output_type'] = 'display_data';\n",
              "          await google.colab.output.renderOutput(dataTable, element);\n",
              "          const docLink = document.createElement('div');\n",
              "          docLink.innerHTML = docLinkHtml;\n",
              "          element.appendChild(docLink);\n",
              "        }\n",
              "      </script>\n",
              "    </div>\n",
              "  </div>\n",
              "  "
            ]
          },
          "metadata": {},
          "execution_count": 8
        }
      ]
    },
    {
      "cell_type": "code",
      "execution_count": 5,
      "metadata": {
        "colab": {
          "base_uri": "https://localhost:8080/",
          "height": 0
        },
        "id": "ExCSh3U8FnIQ",
        "outputId": "00c5a5d6-045f-425f-e6c8-3b61b5bc7cf9"
      },
      "outputs": [
        {
          "output_type": "stream",
          "name": "stdout",
          "text": [
            "Minggu ke-1 = 33.95511\n"
          ]
        }
      ],
      "source": [
        "a = 6.560860\n",
        "b = 5.950850\n",
        "c = 12.685900\n",
        "d = 5.768500\n",
        "e = 2.989000\n",
        "\n",
        "pendapatan = (a + b + c + d + e)\n",
        "print('Minggu ke-1 =', pendapatan)"
      ]
    },
    {
      "cell_type": "code",
      "source": [
        "a = 8.782150\n",
        "b = 6.620000\n",
        "c = 5.128750\n",
        "d = 5.217300\n",
        "e = 4.820600\n",
        "\n",
        "pendapatan = (a + b + c + d + e)\n",
        "print('Minggu ke-2 =', pendapatan)"
      ],
      "metadata": {
        "colab": {
          "base_uri": "https://localhost:8080/",
          "height": 0
        },
        "id": "ToViHRD7H2xx",
        "outputId": "291886c4-1382-44fb-fdf5-14dcee4594eb"
      },
      "execution_count": 6,
      "outputs": [
        {
          "output_type": "stream",
          "name": "stdout",
          "text": [
            "Minggu ke-2 = 30.568799999999996\n"
          ]
        }
      ]
    },
    {
      "cell_type": "code",
      "source": [
        "a = 8.130940\n",
        "b = 2.940650\n",
        "c = 3.488200\n",
        "d = 6.930540\n",
        "e = 4.319260\n",
        "\n",
        "pendapatan = (a + b + c + d + e)\n",
        "print('Minggu ke-3 =', pendapatan)"
      ],
      "metadata": {
        "colab": {
          "base_uri": "https://localhost:8080/",
          "height": 0
        },
        "id": "N9sUJxNuICPi",
        "outputId": "ec89d1fb-fb3c-4005-d09b-1aaabd56fc90"
      },
      "execution_count": 7,
      "outputs": [
        {
          "output_type": "stream",
          "name": "stdout",
          "text": [
            "Minggu ke-3 = 25.80959\n"
          ]
        }
      ]
    },
    {
      "cell_type": "code",
      "source": [
        "a = 12.849100\n",
        "b = 5.752200\n",
        "c = 5.128400\n",
        "d = 3.880490\n",
        "e = 4.982100\n",
        "\n",
        "pendapatan = (a + b + c + d + e)\n",
        "print('Minggu ke-4 =', pendapatan)"
      ],
      "metadata": {
        "colab": {
          "base_uri": "https://localhost:8080/",
          "height": 0
        },
        "id": "BE0EA3TRIh6X",
        "outputId": "24344de2-9766-421d-8bec-675bdbde2a91"
      },
      "execution_count": 8,
      "outputs": [
        {
          "output_type": "stream",
          "name": "stdout",
          "text": [
            "Minggu ke-4 = 32.592290000000006\n"
          ]
        }
      ]
    },
    {
      "cell_type": "code",
      "source": [
        "import matplotlib.pyplot as plt "
      ],
      "metadata": {
        "id": "rT9qaul7J-ap"
      },
      "execution_count": 4,
      "outputs": []
    },
    {
      "cell_type": "code",
      "source": [
        "fig = plt.figure()\n",
        "ax = fig.add_axes([0,0,1,1])\n",
        "minggu = ['minggu ke-1', 'minggu ke-2', 'minggu ke-3', 'minggu ke-4']\n",
        "total = [33.95, 30.56, 25.80, 32.59]\n",
        "c = ['cyan', 'blue', 'black', 'grey']\n",
        "plt.title(\"Persentase\")\n",
        "plt.bar(minggu, total, color = c)\n",
        "plt.show()"
      ],
      "metadata": {
        "colab": {
          "base_uri": "https://localhost:8080/",
          "height": 352
        },
        "id": "PymGGuBXJ9Ww",
        "outputId": "f343ff50-168a-4bca-9c33-9b60b4cc6e5d"
      },
      "execution_count": 5,
      "outputs": [
        {
          "output_type": "display_data",
          "data": {
            "text/plain": [
              "<Figure size 432x288 with 1 Axes>"
            ],
            "image/png": "[encoded data removed]"
          },
          "metadata": {
            "needs_background": "light"
          }
        }
      ]
    },
    {
      "cell_type": "code",
      "source": [
        "fig = plt.figure()\n",
        "ax = fig.add_axes([0,0,1,1])\n",
        "ax.axis ('equal')\n",
        "plt.title(\"persentase\")\n",
        "minggu = ['minggu ke-1', 'minggu ke-2', 'minggu ke-3', 'minggu ke-4']\n",
        "total = [33.95, 30.56, 25.80, 32.59]\n",
        "ax.pie(total,labels=minggu,autopct='%1.2f%%')\n",
        "plt.show()"
      ],
      "metadata": {
        "colab": {
          "base_uri": "https://localhost:8080/",
          "height": 335
        },
        "id": "DlwF-3C-LST1",
        "outputId": "2b0e4f53-f37b-46c8-b3ea-bf0a3427e327"
      },
      "execution_count": 6,
      "outputs": [
        {
          "output_type": "display_data",
          "data": {
            "text/plain": [
              "<Figure size 432x288 with 1 Axes>"
            ],
            "image/png": "[encoded data removed]"
          },
          "metadata": {}
        }
      ]
    },
    {
      "cell_type": "code",
      "source": [
        "df.plot(kind='scatter', x='Minggu', y='total') #UNTUK MEMANGGI VARIABEL\n",
        "\n",
        "plt.title('Per Minggu')\n",
        "plt.xlabel('Minggu')\n",
        "plt.ylabel('total')\n",
        "plt.xlim(-1, 4)\n",
        "plt.ylim(20, 40)\n",
        "plt.grid(True)\n",
        "plt.show()"
      ],
      "metadata": {
        "colab": {
          "base_uri": "https://localhost:8080/",
          "height": 295
        },
        "id": "r9eeDV1ogB8G",
        "outputId": "bc4b170d-5ce9-4281-abc0-12eadc2c3fea"
      },
      "execution_count": 23,
      "outputs": [
        {
          "output_type": "display_data",
          "data": {
            "text/plain": [
              "<Figure size 432x288 with 1 Axes>"
            ],
            "image/png": "[encoded data removed]"
          },
          "metadata": {
            "needs_background": "light"
          }
        }
      ]
    },
    {
      "cell_type": "code",
      "source": [
        "A = 386\n",
        "B = 752\n",
        "C = 1203\n",
        "D = 715\n",
        "E = 289\n",
        "F = 454\n",
        "G = 781\n",
        "H = 634\n",
        "I = 659\n",
        "J = 411\n",
        "K = 599\n",
        "L = 338\n",
        "M = 442\n",
        "N = 872\n",
        "O = 390\n",
        "P = 867\n",
        "Q = 512\n",
        "R = 650\n",
        "S = 492\n",
        "T = 488\n",
        "\n",
        "a = 180\n",
        "b = 164\n",
        "c = 218\n",
        "d = 156\n",
        "e = 92\n",
        "f = 156\n",
        "g = 212\n",
        "h = 164\n",
        "i = 144\n",
        "j = 138\n",
        "k = 290\n",
        "l = 95\n",
        "m = 120\n",
        "n = 225\n",
        "o = 135\n",
        "p = 350\n",
        "q = 143\n",
        "r = 201\n",
        "s = 174\n",
        "t = 205\n",
        "\n",
        "rata_a = (A / a) #Pembagian\n",
        "print('Rata-rata Harga Produk Terjual =', rata_a) #Hasil\n",
        "rata_b = (B / b)\n",
        "print('Rata-rata Harga Produk Terjual =', rata_b)\n",
        "rata_c = (C / c)\n",
        "print('Rata-rata Harga Produk Terjual =', rata_c)\n",
        "rata_d = (D / d)\n",
        "print('Rata-rata Harga Produk Terjual =', rata_d)\n",
        "rata_e = (E / e)\n",
        "print('Rata-rata Harga Produk Terjual =', rata_e)\n",
        "rata_f = (F / f)\n",
        "print('Rata-rata Harga Produk Terjual =', rata_f)\n",
        "rata_g = (G / g)\n",
        "print('Rata-rata Harga Produk Terjual =', rata_g)\n",
        "rata_h = (H / h)\n",
        "print('Rata-rata Harga Produk Terjual =', rata_h)\n",
        "rata_i = (I / i)\n",
        "print('Rata-rata Harga Produk Terjual =', rata_i)\n",
        "rata_j = (J / j)\n",
        "print('Rata-rata Harga Produk Terjual =', rata_j)\n",
        "rata_k = (K / k)\n",
        "print('Rata-rata Harga Produk Terjual =', rata_k)\n",
        "rata_l = (L / l)\n",
        "print('Rata-rata Harga Produk Terjual =', rata_l)\n",
        "rata_m = (M / m)\n",
        "print('Rata-rata Harga Produk Terjual =', rata_m)\n",
        "rata_n = (N / n)\n",
        "print('Rata-rata Harga Produk Terjual =', rata_n)\n",
        "rata_o = (O / o)\n",
        "print('Rata-rata Harga Produk Terjual =', rata_o)\n",
        "rata_p = (P / p)\n",
        "print('Rata-rata Harga Produk Terjual =', rata_p)\n",
        "rata_q = (Q / q)\n",
        "print('Rata-rata Harga Produk Terjual =', rata_q)\n",
        "rata_r = (R / r)\n",
        "print('Rata-rata Harga Produk Terjual =', rata_r)\n",
        "rata_s = (S / s)\n",
        "print('Rata-rata Harga Produk Terjual =', rata_s)\n",
        "rata_t = (T / t)\n",
        "print('Rata-rata Harga Produk Terjual =', rata_t)"
      ],
      "metadata": {
        "colab": {
          "base_uri": "https://localhost:8080/",
          "height": 0
        },
        "id": "rpuOVfBfgFQt",
        "outputId": "9bbba008-30c8-4537-e349-94cf1c4737d5"
      },
      "execution_count": 21,
      "outputs": [
        {
          "output_type": "stream",
          "name": "stdout",
          "text": [
            "Rata-rata Harga Produk Terjual = 2.1444444444444444\n",
            "Rata-rata Harga Produk Terjual = 4.585365853658536\n",
            "Rata-rata Harga Produk Terjual = 5.518348623853211\n",
            "Rata-rata Harga Produk Terjual = 4.583333333333333\n",
            "Rata-rata Harga Produk Terjual = 3.141304347826087\n",
            "Rata-rata Harga Produk Terjual = 2.91025641025641\n",
            "Rata-rata Harga Produk Terjual = 3.6839622641509435\n",
            "Rata-rata Harga Produk Terjual = 3.8658536585365852\n",
            "Rata-rata Harga Produk Terjual = 4.576388888888889\n",
            "Rata-rata Harga Produk Terjual = 2.9782608695652173\n",
            "Rata-rata Harga Produk Terjual = 2.06551724137931\n",
            "Rata-rata Harga Produk Terjual = 3.557894736842105\n",
            "Rata-rata Harga Produk Terjual = 3.683333333333333\n",
            "Rata-rata Harga Produk Terjual = 3.8755555555555556\n",
            "Rata-rata Harga Produk Terjual = 2.888888888888889\n",
            "Rata-rata Harga Produk Terjual = 2.4771428571428573\n",
            "Rata-rata Harga Produk Terjual = 3.5804195804195804\n",
            "Rata-rata Harga Produk Terjual = 3.2338308457711444\n",
            "Rata-rata Harga Produk Terjual = 2.8275862068965516\n",
            "Rata-rata Harga Produk Terjual = 2.3804878048780487\n"
          ]
        }
      ]
    },
    {
      "cell_type": "code",
      "source": [
        "#Minggu ke-1\n",
        "a = 180\n",
        "b = 164\n",
        "c = 218\n",
        "d = 156\n",
        "e = 92\n",
        "minggu = (a + b + c + d + e)\n",
        "print('jumlah =', minggu)\n",
        "minggu1 = 810\n",
        "minggu1 = 10\n",
        "jml = (minggu1 + minggu1)\n",
        "print('analisis :', jml)\n",
        "\n",
        "#Minggu ke-2\n",
        "a = 156\n",
        "b = 212\n",
        "c = 164\n",
        "d = 144\n",
        "e = 138\n",
        "minggu_2 = (a + b + c + d + e)\n",
        "print('jumlah =', minggu_2)\n"
      ],
      "metadata": {
        "colab": {
          "base_uri": "https://localhost:8080/",
          "height": 0
        },
        "id": "40iCtc5XoIUc",
        "outputId": "487d5937-b996-4d2f-9830-664759f6bc8a"
      },
      "execution_count": 32,
      "outputs": [
        {
          "output_type": "stream",
          "name": "stdout",
          "text": [
            "jumlah = 810\n",
            "analisis : 20\n",
            "jumlah = 814\n"
          ]
        }
      ]
    }
  ]
}