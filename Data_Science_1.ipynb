{
  "nbformat": 4,
  "nbformat_minor": 0,
  "metadata": {
    "colab": {
      "provenance": []
    },
    "kernelspec": {
      "name": "python3",
      "display_name": "Python 3"
    },
    "language_info": {
      "name": "python"
    }
  },
  "cells": [
    {
      "cell_type": "code",
      "execution_count": 4,
      "metadata": {
        "colab": {
          "base_uri": "https://localhost:8080/"
        },
        "id": "0NE7GWfOoOjw",
        "outputId": "b10f0017-9ffa-4070-9869-8f881f94eea5"
      },
      "outputs": [
        {
          "output_type": "stream",
          "name": "stdout",
          "text": [
            "dadu_1 = 0.5\n",
            "dadu_2 = 0.3333333333333333\n",
            "dadu_3 = 0.6666666666666666\n",
            "dadu_4 = 0.8333333333333334\n",
            "dadu_5 = 1.0\n",
            "dadu_6 = 0.16666666666666666\n",
            "dadu_7 = 0.8333333333333334\n",
            "dadu_8 = 1.0\n",
            "dadu_9 = 0.5\n",
            "dadu_10 = 0.3333333333333333\n",
            "dadu_11 = 0.3333333333333333\n",
            "dadu_12 = 0.16666666666666666\n",
            "dadu_13 = 0.5\n",
            "dadu_14 = 0.16666666666666666\n",
            "dadu_15 = 0.8333333333333334\n"
          ]
        }
      ],
      "source": [
        "#soal1 Sebuah Dadu Di lempar secara acak dengan 15x percobaan\t\t\n",
        "a = 3\n",
        "b = 2\n",
        "c = 4\n",
        "d = 5\n",
        "e = 6\n",
        "f = 1\n",
        "g = 5\n",
        "h = 6\n",
        "i = 3\n",
        "j = 2\n",
        "k = 2\n",
        "l = 1\n",
        "m = 3\n",
        "n = 1\n",
        "o = 5\n",
        "\n",
        "z = 6\n",
        "\n",
        "dadu1 = (a/z)\n",
        "print('dadu_1 =', dadu1)\n",
        "dadu2 = (b/z)\n",
        "print('dadu_2 =', dadu2)\n",
        "dadu3 = (c/z)\n",
        "print('dadu_3 =', dadu3)\n",
        "dadu4 = (d/z)\n",
        "print('dadu_4 =', dadu4)\n",
        "dadu5 = (e/z)\n",
        "print('dadu_5 =', dadu5)\n",
        "dadu6 = (f/z)\n",
        "print('dadu_6 =', dadu6)\n",
        "dadu7 = (g/z)\n",
        "print('dadu_7 =', dadu7)\n",
        "dadu8 = (h/z)\n",
        "print('dadu_8 =', dadu8)\n",
        "dadu9 = (i/z)\n",
        "print('dadu_9 =', dadu9)\n",
        "dadu10 = (j/z)\n",
        "print('dadu_10 =', dadu10)\n",
        "dadu11 = (k/z)\n",
        "print('dadu_11 =', dadu11)\n",
        "dadu12 = (l/z)\n",
        "print('dadu_12 =', dadu12)\n",
        "dadu13 = (m/z)\n",
        "print('dadu_13 =', dadu13)\n",
        "dadu14 = (n/z)\n",
        "print('dadu_14 =', dadu14)\n",
        "dadu15 = (o/z)\n",
        "print('dadu_15 =', dadu15)"
      ]
    },
    {
      "cell_type": "code",
      "source": [
        "#TOTAL\n",
        "\n",
        "dadu_1 = 0.5\n",
        "dadu_2 = 0.33\n",
        "dadu_3 = 0.66\n",
        "dadu_4 = 0.83\n",
        "dadu_5 = 1.0\n",
        "dadu_6 = 0.16\n",
        "dadu_7 = 0.83\n",
        "dadu_8 = 0.33\n",
        "dadu_9 = 0.16\n",
        "dadu_10 = 0.5\n",
        "dadu_11 = 0.16\n",
        "dadu_12 = 0.83\n",
        "dadu_13 = 0.5\n",
        "dadu_14 = 0.16\n",
        "dadu_15 = 0.83\n",
        "\n",
        "total = (dadu_1 + dadu_2 + dadu_3 + dadu_4 + dadu_5 + dadu_6 + dadu_7 + dadu_8 + dadu_9 + dadu_10 + dadu_11 + dadu_12 + dadu_13 + dadu_14 + dadu_15)\n",
        "print('Total =',total)"
      ],
      "metadata": {
        "colab": {
          "base_uri": "https://localhost:8080/"
        },
        "id": "SuR9MfW2sUFM",
        "outputId": "a6f80073-77b8-4fc0-da5b-a1ad50644671"
      },
      "execution_count": 5,
      "outputs": [
        {
          "output_type": "stream",
          "name": "stdout",
          "text": [
            "Total = 7.780000000000001\n"
          ]
        }
      ]
    },
    {
      "cell_type": "code",
      "source": [
        "a = 3\n",
        "b = 2\n",
        "c = 4\n",
        "d = 1\n",
        "e = 3\n",
        "f = 2\n",
        "g = 2\n",
        "h = 1\n",
        "i = 3\n",
        "j = 1\n",
        "\n",
        "total = ( a + b + c + d + e + f + g + h + i + j)\n",
        "print('Total pelemparan dadu yang memiliki nilai < 5 =', total)"
      ],
      "metadata": {
        "colab": {
          "base_uri": "https://localhost:8080/"
        },
        "id": "TU16XKK3tt-Z",
        "outputId": "3f646817-33de-4f6b-9656-9fc756a52a2b"
      },
      "execution_count": 6,
      "outputs": [
        {
          "output_type": "stream",
          "name": "stdout",
          "text": [
            "Total pelemparan dadu yang memiliki nilai < 5 = 22\n"
          ]
        }
      ]
    },
    {
      "cell_type": "code",
      "source": [
        "#Dua buah Dadu di lempar Secara Acak 20x Percobaan\n",
        "a = 9\n",
        "b = 11\n",
        "c = 3\n",
        "d = 6\n",
        "e = 2\n",
        "f = 4\n",
        "g = 9\n",
        "h = 12\n",
        "i = 10\n",
        "j = 8\n",
        "k = 2\n",
        "l = 6\n",
        "m = 3\n",
        "n = 4\n",
        "o = 9\n",
        "p = 8\n",
        "q = 5\n",
        "r = 6\n",
        "s = 11\n",
        "t = 10\n",
        "\n",
        "z = 6\n",
        "\n",
        "dadu1 = (a/z)\n",
        "print('dadu_1 =', dadu1)\n",
        "dadu2 = (b/z)\n",
        "print('dadu_2 =', dadu2)\n",
        "dadu3 = (c/z)\n",
        "print('dadu_3 =', dadu3)\n",
        "dadu4 = (d/z)\n",
        "print('dadu_4 =', dadu4)\n",
        "dadu5 = (e/z)\n",
        "print('dadu_5 =', dadu5)\n",
        "dadu6 = (f/z)\n",
        "print('dadu_6 =', dadu6)\n",
        "dadu7 = (g/z)\n",
        "print('dadu_7 =', dadu7)\n",
        "dadu8 = (h/z)\n",
        "print('dadu_8 =', dadu8)\n",
        "dadu9 = (i/z)\n",
        "print('dadu_9 =', dadu9)\n",
        "dadu10 = (j/z)\n",
        "print('dadu_10 =', dadu10)\n",
        "dadu11 = (k/z)\n",
        "print('dadu_11 =', dadu11)\n",
        "dadu12 = (l/z)\n",
        "print('dadu_12 =', dadu12)\n",
        "dadu13 = (m/z)\n",
        "print('dadu_13 =', dadu13)\n",
        "dadu14 = (n/z)\n",
        "print('dadu_14 =', dadu14)\n",
        "dadu15 = (o/z)\n",
        "print('dadu_15 =', dadu15)\n",
        "dadu16 = (p/z)\n",
        "print('dadu_16 =', dadu16)\n",
        "dadu17 = (q/z)\n",
        "print('dadu_17 =', dadu17)\n",
        "dadu18 = (r/z)\n",
        "print('dadu_18 =', dadu18)\n",
        "dadu19 = (s/z)\n",
        "print('dadu_19 =', dadu19)\n",
        "dadu20 = (t/z)\n",
        "print('dadu_20 =', dadu20)"
      ],
      "metadata": {
        "colab": {
          "base_uri": "https://localhost:8080/"
        },
        "id": "ZL2qS0ha5LfY",
        "outputId": "12dd8b0c-7491-4371-934b-c6b609a9c0f4"
      },
      "execution_count": 8,
      "outputs": [
        {
          "output_type": "stream",
          "name": "stdout",
          "text": [
            "dadu_1 = 1.5\n",
            "dadu_2 = 1.8333333333333333\n",
            "dadu_3 = 0.5\n",
            "dadu_4 = 1.0\n",
            "dadu_5 = 0.3333333333333333\n",
            "dadu_6 = 0.6666666666666666\n",
            "dadu_7 = 1.5\n",
            "dadu_8 = 2.0\n",
            "dadu_9 = 1.6666666666666667\n",
            "dadu_10 = 1.3333333333333333\n",
            "dadu_11 = 0.3333333333333333\n",
            "dadu_12 = 1.0\n",
            "dadu_13 = 0.5\n",
            "dadu_14 = 0.6666666666666666\n",
            "dadu_15 = 1.5\n",
            "dadu_16 = 1.3333333333333333\n",
            "dadu_17 = 0.8333333333333334\n",
            "dadu_18 = 1.0\n",
            "dadu_19 = 1.8333333333333333\n",
            "dadu_20 = 1.6666666666666667\n"
          ]
        }
      ]
    },
    {
      "cell_type": "code",
      "source": [
        "#Total nilai probabilitas dari semua percobaan\n",
        "dadu_1 = 1.5\n",
        "dadu_2 = 1.83\n",
        "dadu_3 = 0.5\n",
        "dadu_4 = 1.0\n",
        "dadu_5 = 0.33\n",
        "dadu_6 = 0.66\n",
        "dadu_7 = 1.5\n",
        "dadu_8 = 2.0\n",
        "dadu_9 = 1.66\n",
        "dadu_10 = 1.33\n",
        "dadu_11 = 0.33\n",
        "dadu_12 = 1.0\n",
        "dadu_13 = 0.5\n",
        "dadu_14 = 0.66\n",
        "dadu_15 = 1.5\n",
        "dadu_16 = 1.33\n",
        "dadu_17 = 0.83\n",
        "dadu_18 = 1.0\n",
        "dadu_19 = 1.83\n",
        "dadu_20 = 1.66\n",
        "\n",
        "\n",
        "total = (dadu_1 + dadu_2 + dadu_3 + dadu_4 + dadu_5 + dadu_6 + dadu_7 + dadu_8 + dadu_9 + dadu_10 + dadu_11 + dadu_12 + dadu_13 + dadu_14 + dadu_15 + dadu_16 + dadu_17 + dadu_18 + dadu_19 + dadu_20)\n",
        "print('Total nilai probabilitas dari semua percobaan =',total)"
      ],
      "metadata": {
        "colab": {
          "base_uri": "https://localhost:8080/"
        },
        "id": "YjQh7tiX5z88",
        "outputId": "bf4a7ffb-1133-40a1-c859-3503e3c8b6c9"
      },
      "execution_count": 11,
      "outputs": [
        {
          "output_type": "stream",
          "name": "stdout",
          "text": [
            "Total nilai probabilitas dari semua percobaan = 22.95\n"
          ]
        }
      ]
    },
    {
      "cell_type": "code",
      "source": [
        "#Total pelemparan dadu yang memiliki nilai genap\n",
        "a = 6\n",
        "b = 2\n",
        "c = 4\n",
        "d = 12\n",
        "d = 10\n",
        "e = 8\n",
        "f = 2\n",
        "g = 6\n",
        "i = 4\n",
        "j = 8\n",
        "k = 6\n",
        "l = 10\n",
        "\n",
        "total_d = (a + b + c + d + e + f + g + h + i + j + k + l)\n",
        "print('Total pelemparan dadu yang memiliki nilai genap =', total_d)"
      ],
      "metadata": {
        "colab": {
          "base_uri": "https://localhost:8080/"
        },
        "id": "gQHJOR347zRb",
        "outputId": "70bd1bb5-bdc0-44c3-edc2-80122f063a99"
      },
      "execution_count": 12,
      "outputs": [
        {
          "output_type": "stream",
          "name": "stdout",
          "text": [
            "Total pelemparan dadu yang memiliki nilai genap = 78\n"
          ]
        }
      ]
    }
  ]
}